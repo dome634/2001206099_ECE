{
  "nbformat": 4,
  "nbformat_minor": 0,
  "metadata": {
    "colab": {
      "provenance": [],
      "authorship_tag": "ABX9TyNL2GdvZsiVyUHcqB1tdA7p",
      "include_colab_link": true
    },
    "kernelspec": {
      "name": "python3",
      "display_name": "Python 3"
    },
    "language_info": {
      "name": "python"
    }
  },
  "cells": [
    {
      "cell_type": "markdown",
      "metadata": {
        "id": "view-in-github",
        "colab_type": "text"
      },
      "source": [
        "<a href=\"https://colab.research.google.com/github/dome634/2001206099_ECE/blob/main/ECE_04_02_2023.ipynb\" target=\"_parent\"><img src=\"https://colab.research.google.com/assets/colab-badge.svg\" alt=\"Open In Colab\"/></a>"
      ]
    },
    {
      "cell_type": "code",
      "execution_count": 2,
      "metadata": {
        "colab": {
          "base_uri": "https://localhost:8080/"
        },
        "id": "BZsQFC8nsz4N",
        "outputId": "d8637126-6b97-45ee-ef75-20f749807ece"
      },
      "outputs": [
        {
          "output_type": "stream",
          "name": "stdout",
          "text": [
            "a/b= 2.5\n",
            "a//b= 2\n",
            "a**b= 25\n",
            "a<b= False\n",
            "a>b= True\n"
          ]
        }
      ],
      "source": [
        "#using arithmetic operators and comparision operators.\n",
        "a=5\n",
        "b=2\n",
        "print('a/b=',a/b)\n",
        "print('a//b=',a//b)\n",
        "print('a**b=',a**b)\n",
        "print('a<b=',a<b)\n",
        "print('a>b=',a>b)"
      ]
    },
    {
      "cell_type": "code",
      "source": [
        "#using logical operators\n",
        "a=True\n",
        "print('not A=',not a)\n",
        "b=False\n",
        "print('not B=',not b)"
      ],
      "metadata": {
        "colab": {
          "base_uri": "https://localhost:8080/"
        },
        "id": "oVwemjQ9xwLN",
        "outputId": "66e0969b-328a-4881-e3c3-ee1f6ef89fab"
      },
      "execution_count": 3,
      "outputs": [
        {
          "output_type": "stream",
          "name": "stdout",
          "text": [
            "not A= False\n",
            "not B= True\n"
          ]
        }
      ]
    },
    {
      "cell_type": "code",
      "source": [
        "#using Bitwise Operator.\n",
        "a=3\n",
        "b=2\n",
        "c=a<<b\n",
        "print('a<<b',c)"
      ],
      "metadata": {
        "colab": {
          "base_uri": "https://localhost:8080/"
        },
        "id": "xf-V_4gRyaVf",
        "outputId": "da0a5837-6b6d-419f-b628-a9fd80012882"
      },
      "execution_count": 5,
      "outputs": [
        {
          "output_type": "stream",
          "name": "stdout",
          "text": [
            "a<<b 12\n"
          ]
        }
      ]
    },
    {
      "cell_type": "code",
      "source": [
        "#using identify operator(is and is not).\n",
        "a=5\n",
        "b=5\n",
        "print('a is b',a is b)\n",
        "print('a is not b',a is not b)\n",
        "x='CSE'\n",
        "y='ECE'\n",
        "print('x is y', x is y)\n",
        "print('x is not y', x is not y)\n"
      ],
      "metadata": {
        "colab": {
          "base_uri": "https://localhost:8080/"
        },
        "id": "tQhsEEPPywnL",
        "outputId": "326205a2-99c2-4c4d-dd99-dcfa0ab5edd3"
      },
      "execution_count": 6,
      "outputs": [
        {
          "output_type": "stream",
          "name": "stdout",
          "text": [
            "a is b True\n",
            "a is not b False\n",
            "x is y False\n",
            "x is not y True\n"
          ]
        }
      ]
    },
    {
      "cell_type": "code",
      "source": [
        "#using Membership operator.\n",
        "a='HELLO ECE'\n",
        "print('A in a=', a in 'A')\n",
        "print('H in a=', 'H' in a)"
      ],
      "metadata": {
        "colab": {
          "base_uri": "https://localhost:8080/"
        },
        "id": "qZHgBlwm0GrY",
        "outputId": "107815fa-2c19-4481-baf6-1a5190144470"
      },
      "execution_count": 16,
      "outputs": [
        {
          "output_type": "stream",
          "name": "stdout",
          "text": [
            "A in a= False\n",
            "H in a= True\n"
          ]
        }
      ]
    },
    {
      "cell_type": "code",
      "source": [
        "num=int(input(\"enter the number\"))\n",
        "if num%2 == 0:\n",
        "  print(\"Number is even\")\n",
        "else:\n",
        "  print(\"Number is odd\")  "
      ],
      "metadata": {
        "colab": {
          "base_uri": "https://localhost:8080/"
        },
        "id": "SuRH0wSN22kH",
        "outputId": "9d318db2-8799-477a-ee31-b036492f18ff"
      },
      "execution_count": 23,
      "outputs": [
        {
          "output_type": "stream",
          "name": "stdout",
          "text": [
            "enter the number77\n",
            "Number is odd\n"
          ]
        }
      ]
    },
    {
      "cell_type": "code",
      "source": [
        "#using if ..elif statement\n",
        "number=int(input(\"Enter a number\"))\n",
        "if number==10:\n",
        "  print(\"number is equals to 10\")\n",
        "elif number==50:\n",
        "  print(\"number is equal to 50\")\n",
        "elif number==100:\n",
        "  print(\"number is equal to 100\")\n",
        "else:\n",
        "  print(\"numberis not equal to 10,50 or 100\")"
      ],
      "metadata": {
        "colab": {
          "base_uri": "https://localhost:8080/"
        },
        "id": "vEdVlCKH4aFp",
        "outputId": "8c89e465-4ad9-4231-a31f-8633e7ce11a9"
      },
      "execution_count": 25,
      "outputs": [
        {
          "output_type": "stream",
          "name": "stdout",
          "text": [
            "Enter a number50\n",
            "number is equal to 50\n"
          ]
        }
      ]
    }
  ]
}