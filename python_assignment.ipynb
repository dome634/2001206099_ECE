{
  "nbformat": 4,
  "nbformat_minor": 0,
  "metadata": {
    "colab": {
      "provenance": [],
      "authorship_tag": "ABX9TyPtvOYPW/CtgtnvArReMxGx",
      "include_colab_link": true
    },
    "kernelspec": {
      "name": "python3",
      "display_name": "Python 3"
    },
    "language_info": {
      "name": "python"
    }
  },
  "cells": [
    {
      "cell_type": "markdown",
      "metadata": {
        "id": "view-in-github",
        "colab_type": "text"
      },
      "source": [
        "<a href=\"https://colab.research.google.com/github/dome634/2001206099_ECE/blob/main/python_assignment.ipynb\" target=\"_parent\"><img src=\"https://colab.research.google.com/assets/colab-badge.svg\" alt=\"Open In Colab\"/></a>"
      ]
    },
    {
      "cell_type": "code",
      "execution_count": 1,
      "metadata": {
        "colab": {
          "base_uri": "https://localhost:8080/"
        },
        "id": "VmXl46RwwWMV",
        "outputId": "bd3ac972-4489-40fd-ea5d-cc14e7c4341e"
      },
      "outputs": [
        {
          "output_type": "stream",
          "name": "stdout",
          "text": [
            "Enter radius of the circle12\n",
            "The area of the circle 452.304\n",
            "The perimeter of the circle 75.384\n"
          ]
        }
      ],
      "source": [
        "#Find area and perimeter of the circle\n",
        "r =float(input(\"Enter radius of the circle\"))\n",
        "area=3.141*r*r\n",
        "perimeter=2*3.141*r\n",
        "print(\"The area of the circle\",area)\n",
        "print(\"The perimeter of the circle\",perimeter)"
      ]
    },
    {
      "cell_type": "code",
      "source": [
        "#Input kilometer converts to centimeter,meter and millimeter\n",
        "k=float(input(\"Enetr kilometer\"))\n",
        "cm=100000*k\n",
        "m=1000*k\n",
        "mm=1000000*k\n",
        "print(\"centimeter=\",cm)\n",
        "print(\"meter=\",m)\n",
        "print(\"millimeter=\",mm)\n"
      ],
      "metadata": {
        "colab": {
          "base_uri": "https://localhost:8080/"
        },
        "id": "UP0HG-HGx3m5",
        "outputId": "6df371e3-c995-43a4-9bcd-4cab7a92a2d7"
      },
      "execution_count": 4,
      "outputs": [
        {
          "output_type": "stream",
          "name": "stdout",
          "text": [
            "Enetr kilometer3.5\n",
            "centimeter= 350000.0\n",
            "meter= 3500.0\n",
            "millimeter= 3500000.0\n"
          ]
        }
      ]
    },
    {
      "cell_type": "code",
      "source": [
        "#Input two numbers find sum without '+'operator\n",
        "a=int(input(\"Enter the first number\"))\n",
        "b=int(input(\"Enetr the second number\"))\n",
        "sum=(a)-(-b)\n",
        "print(\"The sum of two no is\",str(sum))\n"
      ],
      "metadata": {
        "colab": {
          "base_uri": "https://localhost:8080/"
        },
        "id": "XnGPHX3a2GTM",
        "outputId": "f4b7317f-632d-4d50-cee6-9e66178a89bc"
      },
      "execution_count": 5,
      "outputs": [
        {
          "output_type": "stream",
          "name": "stdout",
          "text": [
            "Enter the first number23\n",
            "Enetr the second number45\n",
            "The sum of two no is 68\n"
          ]
        }
      ]
    },
    {
      "cell_type": "code",
      "source": [
        "#Input temperature finds celcius and Fahrenheit and vice-versa\n",
        "f=float(input(\"input temperature in fahrenheit\"))\n",
        "c=(f-32)*5/9\n",
        "print(\"celcius of the temperature is\",c)\n",
        "d=float(input(\"input temperature in celcius\"))\n",
        "b=(d*9/5)+32\n",
        "print(\"Farheniet of temperature is \",b)"
      ],
      "metadata": {
        "colab": {
          "base_uri": "https://localhost:8080/"
        },
        "id": "b-hs5MtK8djh",
        "outputId": "d1542724-c1c6-4676-e997-1e6b16465c1d"
      },
      "execution_count": 8,
      "outputs": [
        {
          "output_type": "stream",
          "name": "stdout",
          "text": [
            "input temperature in fahrenheit45\n",
            "celcius of the temperature is 7.222222222222222\n",
            "input temperature in celcius7.222222\n",
            "Farheniet of temperature is  44.9999996\n"
          ]
        }
      ]
    },
    {
      "cell_type": "code",
      "source": [
        "#Input two no. find remender without '%'\n",
        "a=int(input(\"Input first numbrer\"))\n",
        "b=int(input(\"Input second number\"))\n",
        "rm=(a-b*(a//b))\n",
        "print(\"remender is\",rm)"
      ],
      "metadata": {
        "colab": {
          "base_uri": "https://localhost:8080/"
        },
        "id": "OcYPpGh0-mbu",
        "outputId": "ce34d371-b826-402e-e1bc-d5d5b097fa61"
      },
      "execution_count": 13,
      "outputs": [
        {
          "output_type": "stream",
          "name": "stdout",
          "text": [
            "Input first numbrer21\n",
            "Input second number3\n",
            "remender is 0\n"
          ]
        }
      ]
    },
    {
      "cell_type": "code",
      "source": [],
      "metadata": {
        "id": "oWK5ZE8c_5_G"
      },
      "execution_count": null,
      "outputs": []
    }
  ]
}