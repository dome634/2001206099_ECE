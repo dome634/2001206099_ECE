{
  "nbformat": 4,
  "nbformat_minor": 0,
  "metadata": {
    "colab": {
      "provenance": [],
      "authorship_tag": "ABX9TyPGPq61ifY2lrUYjck8vM5B",
      "include_colab_link": true
    },
    "kernelspec": {
      "name": "python3",
      "display_name": "Python 3"
    },
    "language_info": {
      "name": "python"
    }
  },
  "cells": [
    {
      "cell_type": "markdown",
      "metadata": {
        "id": "view-in-github",
        "colab_type": "text"
      },
      "source": [
        "<a href=\"https://colab.research.google.com/github/dome634/2001206099_ECE/blob/main/AIML_class1.ipynb\" target=\"_parent\"><img src=\"https://colab.research.google.com/assets/colab-badge.svg\" alt=\"Open In Colab\"/></a>"
      ]
    },
    {
      "cell_type": "code",
      "execution_count": null,
      "metadata": {
        "colab": {
          "base_uri": "https://localhost:8080/"
        },
        "id": "cmMSiUmCoC7a",
        "outputId": "8aff0a4c-dc77-43ed-f668-6c99846e19b3"
      },
      "outputs": [
        {
          "output_type": "stream",
          "name": "stdout",
          "text": [
            "nill\n"
          ]
        }
      ],
      "source": [
        "print('nill')"
      ]
    },
    {
      "cell_type": "code",
      "source": [
        "print(\"hello abit\", end=\" \")\n",
        "print (\"dept.of ECE\")"
      ],
      "metadata": {
        "colab": {
          "base_uri": "https://localhost:8080/"
        },
        "id": "W6TJ2SOprB15",
        "outputId": "3239b967-5cfd-4dd8-b61a-8a845c54f5d6"
      },
      "execution_count": null,
      "outputs": [
        {
          "output_type": "stream",
          "name": "stdout",
          "text": [
            "hello abit dept.of ECE\n"
          ]
        }
      ]
    },
    {
      "cell_type": "code",
      "source": [
        "#using of sep=''in print().\n",
        "a=14\n",
        "b=45\n",
        "c=234\n",
        "print(a,b,c, sep='-')"
      ],
      "metadata": {
        "colab": {
          "base_uri": "https://localhost:8080/"
        },
        "id": "inbJVe_OsH0P",
        "outputId": "855fd038-f732-4fb0-9a54-cbbe250872b3"
      },
      "execution_count": null,
      "outputs": [
        {
          "output_type": "stream",
          "name": "stdout",
          "text": [
            "14-45-234\n"
          ]
        }
      ]
    },
    {
      "cell_type": "code",
      "source": [
        "x = 0b10100\n",
        "y = 100\n",
        "z = 0o215\n",
        "u = 0x12d\n",
        "#Float Literal\n",
        "float_1 = 100.5\n",
        "float_2 = 1.5e2\n",
        "#Complex Literal\n",
        "a =5+3.14j\n",
        "print(x , y, z, u)\n",
        "print(float_1, float_2)\n",
        "print(a, a.imag, a.real)"
      ],
      "metadata": {
        "colab": {
          "base_uri": "https://localhost:8080/"
        },
        "id": "D5Fh290GuYGw",
        "outputId": "3a0a0200-c774-4a4f-fe6e-43e8a68f671f"
      },
      "execution_count": 4,
      "outputs": [
        {
          "output_type": "stream",
          "name": "stdout",
          "text": [
            "20 100 141 301\n",
            "100.5 150.0\n",
            "(5+3.14j) 3.14 5.0\n"
          ]
        }
      ]
    },
    {
      "cell_type": "code",
      "source": [
        "a=23+5j\n",
        "b=2+5.12j\n",
        "c=a+b\n",
        "print(c)"
      ],
      "metadata": {
        "colab": {
          "base_uri": "https://localhost:8080/"
        },
        "id": "kQnudSEdxSwX",
        "outputId": "cfe0e98e-21c7-4f91-9960-f2c583e96ea6"
      },
      "execution_count": 6,
      "outputs": [
        {
          "output_type": "stream",
          "name": "stdout",
          "text": [
            "(25+10.120000000000001j)\n"
          ]
        }
      ]
    },
    {
      "cell_type": "code",
      "source": [
        "a=int(input('Enter 1st no ='))\n",
        "b=int(input('Enter 2nd no ='))\n",
        "c=a+b\n",
        "print('c =',c)"
      ],
      "metadata": {
        "colab": {
          "base_uri": "https://localhost:8080/"
        },
        "id": "Hqj6cYKsyJr4",
        "outputId": "a8ba8406-65e1-4083-f364-7b075600105c"
      },
      "execution_count": 8,
      "outputs": [
        {
          "output_type": "stream",
          "name": "stdout",
          "text": [
            "Enter 1st no =43\n",
            "Enter 2nd no =23\n",
            "c = 66\n"
          ]
        }
      ]
    },
    {
      "cell_type": "code",
      "source": [
        "# using of /, // and ** in Arithmetic Operator\n",
        "a=2\n",
        "b=4\n",
        "c=a/b\n",
        "print(c)\n",
        "d=a//b\n",
        "print(d)\n",
        "e=a**b\n",
        "print(e)\n"
      ],
      "metadata": {
        "colab": {
          "base_uri": "https://localhost:8080/"
        },
        "id": "wG-n4nAv0RIL",
        "outputId": "3264fd03-3aba-4112-d581-da5b19590d33"
      },
      "execution_count": 10,
      "outputs": [
        {
          "output_type": "stream",
          "name": "stdout",
          "text": [
            "0.5\n",
            "0\n",
            "16\n"
          ]
        }
      ]
    }
  ]
}