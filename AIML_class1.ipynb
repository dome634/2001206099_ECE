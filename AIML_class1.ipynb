{
  "nbformat": 4,
  "nbformat_minor": 0,
  "metadata": {
    "colab": {
      "provenance": [],
      "authorship_tag": "ABX9TyP4+hp0CGifS8DhHPZ1EOkh",
      "include_colab_link": true
    },
    "kernelspec": {
      "name": "python3",
      "display_name": "Python 3"
    },
    "language_info": {
      "name": "python"
    }
  },
  "cells": [
    {
      "cell_type": "markdown",
      "metadata": {
        "id": "view-in-github",
        "colab_type": "text"
      },
      "source": [
        "<a href=\"https://colab.research.google.com/github/dome634/2001206099_ECE/blob/main/AIML_class1.ipynb\" target=\"_parent\"><img src=\"https://colab.research.google.com/assets/colab-badge.svg\" alt=\"Open In Colab\"/></a>"
      ]
    },
    {
      "cell_type": "code",
      "execution_count": null,
      "metadata": {
        "colab": {
          "base_uri": "https://localhost:8080/"
        },
        "id": "cmMSiUmCoC7a",
        "outputId": "8aff0a4c-dc77-43ed-f668-6c99846e19b3"
      },
      "outputs": [
        {
          "output_type": "stream",
          "name": "stdout",
          "text": [
            "nill\n"
          ]
        }
      ],
      "source": [
        "print('nill')"
      ]
    },
    {
      "cell_type": "code",
      "source": [
        "print(\"hello abit\", end=\" \")\n",
        "print (\"dept.of ECE\")"
      ],
      "metadata": {
        "colab": {
          "base_uri": "https://localhost:8080/"
        },
        "id": "W6TJ2SOprB15",
        "outputId": "3239b967-5cfd-4dd8-b61a-8a845c54f5d6"
      },
      "execution_count": null,
      "outputs": [
        {
          "output_type": "stream",
          "name": "stdout",
          "text": [
            "hello abit dept.of ECE\n"
          ]
        }
      ]
    },
    {
      "cell_type": "code",
      "source": [
        "#using of sep=''in print().\n",
        "a=14\n",
        "b=45\n",
        "c=234\n",
        "print(a,b,c, sep='-')"
      ],
      "metadata": {
        "colab": {
          "base_uri": "https://localhost:8080/"
        },
        "id": "inbJVe_OsH0P",
        "outputId": "855fd038-f732-4fb0-9a54-cbbe250872b3"
      },
      "execution_count": null,
      "outputs": [
        {
          "output_type": "stream",
          "name": "stdout",
          "text": [
            "14-45-234\n"
          ]
        }
      ]
    }
  ]
}